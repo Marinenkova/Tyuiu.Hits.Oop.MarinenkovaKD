{
 "cells": [
  {
   "cell_type": "markdown",
   "metadata": {},
   "source": [
    "<h1 style=\"color:DodgerBlue\">Индивидальный проект</h1>"
   ]
  },
  {
   "cell_type": "markdown",
   "metadata": {},
   "source": [
    "<h2 style=\"color:DodgerBlue\">Название проекта:</h2>\n",
    "\n",
    "----\n",
    "\n",
    "### Вариант задания 7\n"
   ]
  },
  {
   "cell_type": "markdown",
   "metadata": {},
   "source": [
    "<h2 style=\"color:DodgerBlue\">Описание проекта:</h2>\n",
    "\n",
    "----\n",
    "\n",
    "Описание задачи:\n",
    "Создать базовый класс BankAccount в C#, который будет представлять\n",
    "информацию об учетных записях в банке. На основе этого класса разработать 2-3\n",
    "производных класса, демонстрирующих принципы наследования и полиморфизма.\n",
    "В каждом из классов должны быть реализованы новые атрибуты и методы, а также\n",
    "переопределены некоторые методы базового класса для демонстрации\n",
    "полиморфизма.\n",
    "Требования к базовому классу BankAccount:\n",
    "• Атрибуты: Номер счета (AccountNumber), Баланс (Balance), Тип счета\n",
    "(AccountType).\n",
    "• Методы:\n",
    "o GetInfo(): метод для получения информации о счете в виде строки.\n",
    "o Deposit(decimal amount): метод для внесения денег на счет.\n",
    "o Withdraw(decimal amount): метод для снятия денег со счета.\n",
    "Требования к производным классам:\n",
    "1. Сберегательный счет (SavingsAccount): Должен содержать дополнительные\n",
    "атрибуты, такие как Процентная ставка (InterestRate). Метод Deposit() должен\n",
    "быть переопределен для добавления процентов к сумме вклада при\n",
    "внесении денег на счет.\n",
    "2. Текущий счет (CheckingAccount): Должен содержать дополнительные\n",
    "атрибуты, такие как Лимит овердрафта (OverdraftLimit).\n",
    "Метод Withdraw() должен быть переопределен для проверки и применения\n",
    "лимита овердрафта при снятии денег со счета.\n",
    "3. Инвестиционный счет (InvestmentAccount) (если требуется третий класс):\n",
    "Должен содержать дополнительные атрибуты, такие как Список активов\n",
    "(AssetsList). Метод GetInfo() должен быть переопределен для включения\n",
    "информации о списках активов в описании счета."
   ]
  },
  {
   "cell_type": "markdown",
   "metadata": {},
   "source": [
    "<h2 style=\"color:DodgerBlue\">Реализация:</h2>\n",
    "\n",
    "----"
   ]
  },
  {
   "cell_type": "code",
   "execution_count": 5,
   "metadata": {
    "dotnet_interactive": {
     "language": "csharp"
    },
    "polyglot_notebook": {
     "kernelName": "csharp"
    }
   },
   "outputs": [],
   "source": [
    "public class BankAccount\n",
    "{\n",
    "    public string AccountNumber { get; set; }\n",
    "    public decimal Balance { get; protected set; }\n",
    "    public string AccountType { get; protected set; }\n",
    "\n",
    "    public BankAccount(string accountNumber, decimal initialBalance)\n",
    "    {\n",
    "        AccountNumber = accountNumber;\n",
    "        Balance = initialBalance;\n",
    "        AccountType = \"Basic\";\n",
    "    }\n",
    "\n",
    "    public virtual string GetInfo()\n",
    "    {\n",
    "        return $\"Account Number: {AccountNumber}, Balance: {Balance}, Type: {AccountType}\";\n",
    "    }\n",
    "\n",
    "    public virtual void Deposit(decimal amount)\n",
    "    {\n",
    "        Balance += amount;\n",
    "    }\n",
    "\n",
    "    public virtual void Withdraw(decimal amount)\n",
    "    {\n",
    "        if (amount <= Balance)\n",
    "        {\n",
    "            Balance -= amount;\n",
    "        }\n",
    "        else\n",
    "        {\n",
    "            Console.WriteLine(\"Insufficient funds.\");\n",
    "        }\n",
    "    }\n",
    "}\n",
    "\n",
    "public class SavingsAccount : BankAccount\n",
    "{\n",
    "    public decimal InterestRate { get; set; }\n",
    "\n",
    "    public SavingsAccount(string accountNumber, decimal initialBalance, decimal interestRate)\n",
    "        : base(accountNumber, initialBalance)\n",
    "    {\n",
    "        InterestRate = interestRate;\n",
    "        AccountType = \"Savings\";\n",
    "    }\n",
    "\n",
    "    public override void Deposit(decimal amount)\n",
    "    {\n",
    "        base.Deposit(amount);\n",
    "        Balance += Balance * InterestRate / 100;\n",
    "    }\n",
    "\n",
    "    public override string GetInfo()\n",
    "    {\n",
    "        return base.GetInfo() + $\", Interest Rate: {InterestRate}%\";\n",
    "    }\n",
    "}\n",
    "\n",
    "public class CheckingAccount : BankAccount\n",
    "{\n",
    "    public decimal OverdraftLimit { get; set; }\n",
    "\n",
    "    public CheckingAccount(string accountNumber, decimal initialBalance, decimal overdraftLimit)\n",
    "        : base(accountNumber, initialBalance)\n",
    "    {\n",
    "        OverdraftLimit = overdraftLimit;\n",
    "        AccountType = \"Checking\";\n",
    "    }\n",
    "\n",
    "    public override void Withdraw(decimal amount)\n",
    "    {\n",
    "        if (amount <= Balance + OverdraftLimit)\n",
    "        {\n",
    "            Balance -= amount;\n",
    "        }\n",
    "        else\n",
    "        {\n",
    "            Console.WriteLine(\"Overdraft limit exceeded.\");\n",
    "        }\n",
    "    }\n",
    "\n",
    "    public override string GetInfo()\n",
    "    {\n",
    "        return base.GetInfo() + $\", Overdraft Limit: {OverdraftLimit}\";\n",
    "    }\n",
    "}"
   ]
  }
 ],
 "metadata": {
  "kernelspec": {
   "display_name": ".NET (C#)",
   "language": "C#",
   "name": ".net-csharp"
  },
  "polyglot_notebook": {
   "kernelInfo": {
    "defaultKernelName": "csharp",
    "items": [
     {
      "aliases": [],
      "languageName": "csharp",
      "name": "csharp"
     }
    ]
   }
  }
 },
 "nbformat": 4,
 "nbformat_minor": 2
}
