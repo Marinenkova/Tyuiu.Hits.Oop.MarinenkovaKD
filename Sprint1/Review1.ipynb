{
 "cells": [
  {
   "cell_type": "code",
   "execution_count": 4,
   "metadata": {
    "dotnet_interactive": {
     "language": "csharp"
    },
    "polyglot_notebook": {
     "kernelName": "csharp"
    },
    "vscode": {
     "languageId": "polyglot-notebook"
    }
   },
   "outputs": [
    {
     "name": "stdout",
     "output_type": "stream",
     "text": [
      "Название: Планшет, Цена: 25000, Количество: 15, Категория: Электроника, Описание: Планшет Xiaomi Pad 5\n",
      "Название: Планшет, Цена: 25000, Количество: 58, Категория: Электроника, Описание: Планшет Xiaomi Pad 5\n",
      "Общая стоимость: 1450000\n",
      "Имя продавца: Крис, ID продавца: 78346, Зарплата: 1000000, Контактная информация: 89028509655\n",
      "Добавлен товар: Наушники, Цена: 5000, Количество: 17\n",
      "Продано: Наушники, 8 штуки\n",
      "Название магазина: DNS, Адрес: Московский тракт, Часы работы: с 8:00 до 21:00\n"
     ]
    }
   ],
   "source": [
    "public class Product\n",
    "{\n",
    "    private string Name { get; set; }\n",
    "    private decimal Price { get; set; }\n",
    "    private int Quantity { get; set; }\n",
    "    protected string Category { get; set; }\n",
    "    internal string Desrciption { get; set; }\n",
    "\n",
    "    public Product (string name, decimal price, int quantity, string category, string description)\n",
    "    {\n",
    "        Name = name;\n",
    "        Price = price;\n",
    "        Quantity = quantity;\n",
    "        Category = category;\n",
    "        Desrciption = description;\n",
    "    }\n",
    "\n",
    "    // Возвращает общую стоимость всех единиц товара\n",
    "    public decimal GetTotalPrice()\n",
    "    {\n",
    "        return Price * Quantity;\n",
    "    }\n",
    "\n",
    "    // обновляет количество товара на указанное значение \n",
    "    public void UpdateQuantity(int amount)\n",
    "    {\n",
    "        Quantity += amount;\n",
    "    }\n",
    "\n",
    "    // возвращает строку с полным описанием товара\n",
    "    public string GetProductInfo()\n",
    "    {\n",
    "        return $\"Название: {Name}, Цена: {Price}, Количество: {Quantity}, Категория: {Category}, Описание: {Desrciption}\";\n",
    "    }\n",
    "}\n",
    "\n",
    "// Класс Продавец\n",
    "public class Seller\n",
    "{\n",
    "    private string Name { get; set; }\n",
    "    private string EmployeeId { get; set; }\n",
    "    protected decimal Salary { get; set; }\n",
    "    internal string ContactInfo { get; set; }\n",
    "\n",
    "    public Seller(string name, string employeeId, decimal salary, string contactInfo)\n",
    "    {\n",
    "        Name = name;\n",
    "        EmployeeId = employeeId;\n",
    "        Salary = salary;\n",
    "        ContactInfo = contactInfo;\n",
    "    }\n",
    "\n",
    "    public void AddProduct(string productName, decimal price, int quantity)\n",
    "    {\n",
    "        Console.WriteLine($\"Добавлен товар: {productName}, Цена: {price}, Количество: {quantity}\");\n",
    "    }\n",
    "\n",
    "    public void SellProduct(string productName, int quantity)\n",
    "    {\n",
    "        Console.WriteLine($\"Продано: {productName}, {quantity} штуки\");\n",
    "    }\n",
    "\n",
    "    public string GetSellerInfo()\n",
    "    {\n",
    "        return $\"Имя продавца: {Name}, ID продавца: {EmployeeId}, Зарплата: {Salary}, Контактная информация: {ContactInfo}\";\n",
    "    }\n",
    "}\n",
    "\n",
    "// Класс Магазин\n",
    "public class Store\n",
    "{\n",
    "    private string storeName;\n",
    "    private string location;\n",
    "    public string storeHours;\n",
    "\n",
    "    public Store(string storeName, string location, string storeHours)\n",
    "    {\n",
    "        this.storeName = storeName;\n",
    "        this.location = location;\n",
    "        this.storeHours = storeHours;\n",
    "    }\n",
    "\n",
    "    private List<Seller> sellers = new List<Seller>();\n",
    "\n",
    "    public void AddSeller(Seller seller)\n",
    "    {\n",
    "        sellers.Add(seller);\n",
    "    }\n",
    "\n",
    "    public void ListProducts()\n",
    "    {\n",
    "        foreach (var seller in sellers)\n",
    "        {\n",
    "            Console.WriteLine(seller.GetSellerInfo());\n",
    "        }\n",
    "    }\n",
    "\n",
    "    public string GetStoreInfo()\n",
    "    {\n",
    "        return $\"Название магазина: {storeName}, Адрес: {location}, Часы работы: {storeHours}\";\n",
    "    }\n",
    "}\n",
    "\n",
    "Product product = new Product(\"Планшет\", 25000, 15, \"Электроника\", \"Планшет Xiaomi Pad 5\");\n",
    "Console.WriteLine(product.GetProductInfo());\n",
    "product.UpdateQuantity(43);\n",
    "Console.WriteLine(product.GetProductInfo());\n",
    "decimal totalCost = product.GetTotalPrice();\n",
    "Console.WriteLine($\"Общая стоимость: {totalCost}\");\n",
    "\n",
    "Seller seller = new Seller(\"Крис\", \"78346\", 1000000, \"89028509655\");\n",
    "Console.WriteLine(seller.GetSellerInfo());\n",
    "\n",
    "seller.AddProduct(\"Наушники\", 5000, 17);\n",
    "seller.SellProduct(\"Наушники\", 8);\n",
    "\n",
    "Store store = new Store(\"DNS\", \"Московский тракт\", \"с 8:00 до 21:00\");\n",
    "Console.WriteLine(store.GetStoreInfo());\n",
    "store.ListProducts();\n"
   ]
  }
 ],
 "metadata": {
  "kernelspec": {
   "display_name": ".NET (C#)",
   "language": "C#",
   "name": ".net-csharp"
  },
  "language_info": {
   "name": "csharp"
  },
  "polyglot_notebook": {
   "kernelInfo": {
    "defaultKernelName": "csharp",
    "items": [
     {
      "aliases": [],
      "name": "csharp"
     }
    ]
   }
  }
 },
 "nbformat": 4,
 "nbformat_minor": 2
}
